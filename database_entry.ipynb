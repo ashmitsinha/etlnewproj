{
 "cells": [
  {
   "cell_type": "code",
   "execution_count": 93,
   "metadata": {},
   "outputs": [],
   "source": [
    "import mysql.connector\n",
    "import pandas as pd\n"
   ]
  },
  {
   "cell_type": "code",
   "execution_count": 94,
   "metadata": {},
   "outputs": [],
   "source": [
    "import os"
   ]
  },
  {
   "cell_type": "code",
   "execution_count": 95,
   "metadata": {},
   "outputs": [],
   "source": [
    "\n",
    "connection = mysql.connector.connect(\n",
    "    host='localhost',   \n",
    "    user='root',    \n",
    "    password='root', \n",
    "    database='Target_Customers'  \n",
    ")"
   ]
  },
  {
   "cell_type": "code",
   "execution_count": 96,
   "metadata": {},
   "outputs": [],
   "source": [
    "cursor = connection.cursor()"
   ]
  },
  {
   "cell_type": "code",
   "execution_count": 108,
   "metadata": {},
   "outputs": [],
   "source": [
    "def create_table_for_country(country):\n",
    "    table_name = f'Table_{country}'\n",
    "    \n",
    "    \n",
    "    create_table_query = f\"\"\"\n",
    "    CREATE TABLE IF NOT EXISTS {table_name} (\n",
    "        Customer_Name VARCHAR(255),\n",
    "        Customer_Id VARCHAR(18),\n",
    "        Open_Date DATE,\n",
    "        Last_Consulted_Date DATE,\n",
    "        Vaccination_Type CHAR(5),\n",
    "        Doctor_Consulted CHAR(255),\n",
    "        State CHAR(5),\n",
    "        Country CHAR(5),\n",
    "        Post_Code INT,\n",
    "        Date_Of_Birth DATE,\n",
    "        Active_Customer CHAR(1)\n",
    "    );\n",
    "    \"\"\"\n",
    "    \n",
    "    cursor.execute(create_table_query)\n",
    "    print(f\"Table {table_name} created successfully!\")"
   ]
  },
  {
   "cell_type": "code",
   "execution_count": 109,
   "metadata": {},
   "outputs": [],
   "source": [
    "input_directory = r'C:\\Users\\Ashmit\\Desktop\\etlnew\\country'"
   ]
  },
  {
   "cell_type": "code",
   "execution_count": 110,
   "metadata": {},
   "outputs": [
    {
     "data": {
      "text/plain": [
       "['.git',\n",
       " 'country',\n",
       " 'customers_AUS_20241009_225759.csv',\n",
       " 'customers_AUS_20241009_230109.csv',\n",
       " 'customers_BRA_20241009_225759.csv',\n",
       " 'customers_BRA_20241009_230109.csv',\n",
       " 'customers_BR_20241009_225759.csv',\n",
       " 'customers_BR_20241009_230109.csv',\n",
       " 'customers_data.csv',\n",
       " 'customers_DE_20241009_225759.csv',\n",
       " 'customers_DE_20241009_230109.csv',\n",
       " 'customers_GB_20241009_225759.csv',\n",
       " 'customers_GB_20241009_230109.csv',\n",
       " 'customers_GER_20241009_225759.csv',\n",
       " 'customers_GER_20241009_230109.csv',\n",
       " 'customers_IND_20241009_225759.csv',\n",
       " 'customers_IND_20241009_230109.csv',\n",
       " 'customers_IN_20241009_225759.csv',\n",
       " 'customers_IN_20241009_230109.csv',\n",
       " 'customers_JPN_20241009_225759.csv',\n",
       " 'customers_JPN_20241009_230109.csv',\n",
       " 'customers_UK_20241009_225759.csv',\n",
       " 'customers_UK_20241009_230109.csv',\n",
       " 'customers_USA_20241009_225759.csv',\n",
       " 'customers_USA_20241009_230109.csv',\n",
       " 'database_con.ipynb',\n",
       " 'database_entry.ipynb',\n",
       " 'readme.md']"
      ]
     },
     "execution_count": 110,
     "metadata": {},
     "output_type": "execute_result"
    }
   ],
   "source": [
    "csv_files = [f for f in os.listdir() if f.endswith('.csv')]\n",
    "os.listdir() "
   ]
  },
  {
   "cell_type": "code",
   "execution_count": 111,
   "metadata": {},
   "outputs": [],
   "source": [
    "countries = set()"
   ]
  },
  {
   "cell_type": "code",
   "execution_count": 112,
   "metadata": {},
   "outputs": [],
   "source": [
    "for csv_file in csv_files:\n",
    "    # Read the CSV file\n",
    "    df = pd.read_csv(csv_file, encoding='ISO-8859-1' )\n",
    "    \n",
    "    # Add unique countries to the set\n",
    "    countries.update(df['Country'].unique())"
   ]
  },
  {
   "cell_type": "code",
   "execution_count": 113,
   "metadata": {},
   "outputs": [
    {
     "name": "stdout",
     "output_type": "stream",
     "text": [
      "Table Table_JPN created successfully!\n",
      "Table Table_UK created successfully!\n",
      "Table Table_IND created successfully!\n",
      "Table Table_AUS created successfully!\n",
      "Table Table_USA created successfully!\n",
      "Table Table_BRA created successfully!\n",
      "Table Table_BR created successfully!\n",
      "Table Table_GB created successfully!\n",
      "Table Table_GER created successfully!\n",
      "Table Table_DE created successfully!\n",
      "Table Table_IN created successfully!\n"
     ]
    }
   ],
   "source": [
    "for country in countries:\n",
    "    create_table_for_country(country)"
   ]
  },
  {
   "cell_type": "code",
   "execution_count": 114,
   "metadata": {},
   "outputs": [],
   "source": [
    "connection.commit()"
   ]
  },
  {
   "cell_type": "code",
   "execution_count": 115,
   "metadata": {},
   "outputs": [],
   "source": [
    "# import os\n",
    "# import pandas as pd\n",
    "\n",
    "# def insert_data_from_csv(country, input_directory):\n",
    "#     # Construct the filename pattern based on the country (ignoring timestamp)\n",
    "#     file_pattern = f'customers_{country}_*.csv'  # Use wildcard for timestamp\n",
    "#     matching_files = [f for f in os.listdir(input_directory) if f.startswith(f'customers_{country}_') and f.endswith('.csv')]\n",
    "    \n",
    "#     # Check if matching files are found\n",
    "#     if not matching_files:\n",
    "#         print(f\"No files found for country: {country}\")\n",
    "#         return\n",
    "\n",
    "#     for csv_file in matching_files:\n",
    "#         # Construct the full path to the CSV file\n",
    "#         full_csv_path = os.path.join(input_directory, csv_file)\n",
    "        \n",
    "#         # Read the CSV file\n",
    "#         df = pd.read_csv(full_csv_path)\n",
    "\n",
    "#         # Prepare insert statement\n",
    "#         for index, row in df.iterrows():\n",
    "#             insert_query = f\"\"\"\n",
    "#             INSERT INTO Table_{country} (Customer_Name, Customer_ID, Open_Date, Last_Consulted_Date, Vaccination_Type, \n",
    "#                                           Doctor_Consulted, State, Country, Post_Code, Date_Of_Birth, Active_Customer)\n",
    "#             VALUES (%s, %s, %s, %s, %s, %s, %s, %s, %s, %s, %s);\n",
    "#             \"\"\"\n",
    "\n",
    "#             # Execute the insert statement with the row data\n",
    "#             cursor.execute(insert_query, tuple(row))\n",
    "#         print(f\"Data from {full_csv_path} inserted into Table_{country}.\")\n",
    "\n"
   ]
  },
  {
   "cell_type": "code",
   "execution_count": null,
   "metadata": {},
   "outputs": [],
   "source": [
    "\n"
   ]
  },
  {
   "cell_type": "code",
   "execution_count": null,
   "metadata": {},
   "outputs": [],
   "source": []
  },
  {
   "cell_type": "code",
   "execution_count": 116,
   "metadata": {},
   "outputs": [],
   "source": [
    "\n",
    "def insert_or_update_data_from_csv(country, input_directory):\n",
    "   \n",
    "    file_pattern = f'customers_{country}_*.csv'  \n",
    "    matching_files = [f for f in os.listdir(input_directory) if f.startswith(f'customers_{country}_') and f.endswith('.csv')]\n",
    "    \n",
    "    \n",
    "    if not matching_files:\n",
    "        print(f\"No files found for country: {country}\")\n",
    "        return\n",
    "\n",
    "    for csv_file in matching_files:\n",
    "        \n",
    "        full_csv_path = os.path.join(input_directory, csv_file)\n",
    "        \n",
    "     \n",
    "        df = pd.read_csv(full_csv_path)\n",
    "        \n",
    "        \n",
    "        print(\"Column names in CSV file:\", df.columns.tolist())\n",
    "        \n",
    "        \n",
    "        df.columns = df.columns.str.strip()\n",
    "        if 'Customer_ID' not in df.columns:\n",
    "            print(f\"'Customer_ID' column not found in {csv_file}. Please check the file.\")\n",
    "            return  # \n",
    "        \n",
    "        for index, row in df.iterrows():\n",
    "            customer_id = row['Customer_ID']  \n",
    "            \n",
    "            check_query = f\"\"\"\n",
    "            SELECT Country FROM Table_{country} WHERE Customer_ID = %s;\n",
    "            \"\"\"\n",
    "            cursor.execute(check_query, (customer_id,))\n",
    "            result = cursor.fetchone()\n",
    "\n",
    "            if result:\n",
    "                current_country = result[0]\n",
    "\n",
    "            \n",
    "                if current_country != country:\n",
    "                    # Insert the new record into the new country's table\n",
    "                    insert_query = f\"\"\"\n",
    "                    INSERT INTO Table_{country} (Customer_Name, Customer_ID, Open_Date, Last_Consulted_Date, Vaccination_Type, \n",
    "                                                  Doctor_Consulted, State, Country, Post_Code, Date_Of_Birth, Active_Customer)\n",
    "                    VALUES (%s, %s, %s, %s, %s, %s, %s, %s, %s, %s, %s);\n",
    "                    \"\"\"\n",
    "                    cursor.execute(insert_query, tuple(row))\n",
    "                    print(f\"Moved Customer_ID: {customer_id} to Table_{country}.\")\n",
    "\n",
    "                \n",
    "                    delete_query = f\"\"\"\n",
    "                    DELETE FROM Table_{current_country} WHERE Customer_ID = %s;\n",
    "                    \"\"\"\n",
    "                    cursor.execute(delete_query, (customer_id,))\n",
    "                    print(f\"Deleted Customer_ID: {customer_id} from Table_{current_country}.\")\n",
    "                else:\n",
    "                    \n",
    "                    update_query = f\"\"\"\n",
    "                    UPDATE Table_{country}\n",
    "                    SET Last_Consulted_Date = %s\n",
    "                    WHERE Customer_ID = %s;\n",
    "                    \"\"\"\n",
    "                    cursor.execute(update_query, (row['Last_Consulted_Date'], customer_id))\n",
    "                    print(f\"Updated Last_Consulted_Date for Customer_ID: {customer_id} in Table_{country}.\")\n",
    "            else:\n",
    "                \n",
    "                insert_query = f\"\"\"\n",
    "                INSERT INTO Table_{country} (Customer_Name, Customer_ID, Open_Date, Last_Consulted_Date, Vaccination_Type, \n",
    "                                              Doctor_Consulted, State, Country, Post_Code, Date_Of_Birth, Active_Customer)\n",
    "                VALUES (%s, %s, %s, %s, %s, %s, %s, %s, %s, %s, %s);\n",
    "                \"\"\"\n",
    "                cursor.execute(insert_query, tuple(row))\n",
    "                print(f\"Inserted new record for Customer_ID: {customer_id} in Table_{country}.\")\n",
    "\n",
    "    \n",
    "    connection.commit()\n",
    "\n",
    "\n",
    "\n"
   ]
  },
  {
   "cell_type": "code",
   "execution_count": 117,
   "metadata": {},
   "outputs": [
    {
     "name": "stdout",
     "output_type": "stream",
     "text": [
      "Column names in CSV file: ['Customer_Name', 'Customer_Id', 'Open_Date', 'Last_Consulted_Date', 'Vaccination_Type', 'Doctor_Consulted', 'State', 'Country', 'Post_Code', 'Date_of_Birth', 'Active_Customer']\n",
      "'Customer_ID' column not found in customers_JPN_20241009_215423.csv. Please check the file.\n",
      "Column names in CSV file: ['Customer_Name', 'Customer_Id', 'Open_Date', 'Last_Consulted_Date', 'Vaccination_Type', 'Doctor_Consulted', 'State', 'Country', 'Post_Code', 'Date_of_Birth', 'Active_Customer']\n",
      "'Customer_ID' column not found in customers_UK_20241009_215423.csv. Please check the file.\n",
      "Column names in CSV file: ['Customer_Name', 'Customer_Id', 'Open_Date', 'Last_Consulted_Date', 'Vaccination_Type', 'Doctor_Consulted', 'State', 'Country', 'Post_Code', 'Date_of_Birth', 'Active_Customer']\n",
      "'Customer_ID' column not found in customers_IND_20241009_215423.csv. Please check the file.\n",
      "Column names in CSV file: ['Customer_Name', 'Customer_Id', 'Open_Date', 'Last_Consulted_Date', 'Vaccination_Type', 'Doctor_Consulted', 'State', 'Country', 'Post_Code', 'Date_of_Birth', 'Active_Customer']\n",
      "'Customer_ID' column not found in customers_AUS_20241009_215423.csv. Please check the file.\n",
      "Column names in CSV file: ['Customer_Name', 'Customer_Id', 'Open_Date', 'Last_Consulted_Date', 'Vaccination_Type', 'Doctor_Consulted', 'State', 'Country', 'Post_Code', 'Date_of_Birth', 'Active_Customer']\n",
      "'Customer_ID' column not found in customers_USA_20241009_215423.csv. Please check the file.\n",
      "Column names in CSV file: ['Customer_Name', 'Customer_Id', 'Open_Date', 'Last_Consulted_Date', 'Vaccination_Type', 'Doctor_Consulted', 'State', 'Country', 'Post_Code', 'Date_of_Birth', 'Active_Customer']\n",
      "'Customer_ID' column not found in customers_BRA_20241009_222039.csv. Please check the file.\n",
      "Column names in CSV file: ['Customer_Name', 'Customer_Id', 'Open_Date', 'Last_Consulted_Date', 'Vaccination_Type', 'Doctor_Consulted', 'State', 'Country', 'Post_Code', 'Date_of_Birth', 'Active_Customer']\n",
      "'Customer_ID' column not found in customers_BR_20241009_225759.csv. Please check the file.\n",
      "Column names in CSV file: ['Customer_Name', 'Customer_Id', 'Open_Date', 'Last_Consulted_Date', 'Vaccination_Type', 'Doctor_Consulted', 'State', 'Country', 'Post_Code', 'Date_of_Birth', 'Active_Customer']\n",
      "'Customer_ID' column not found in customers_GB_20241009_225759.csv. Please check the file.\n",
      "Column names in CSV file: ['Customer_Name', 'Customer_Id', 'Open_Date', 'Last_Consulted_Date', 'Vaccination_Type', 'Doctor_Consulted', 'State', 'Country', 'Post_Code', 'Date_of_Birth', 'Active_Customer']\n",
      "'Customer_ID' column not found in customers_GER_20241009_215423.csv. Please check the file.\n",
      "Column names in CSV file: ['Customer_Name', 'Customer_Id', 'Open_Date', 'Last_Consulted_Date', 'Vaccination_Type', 'Doctor_Consulted', 'State', 'Country', 'Post_Code', 'Date_of_Birth', 'Active_Customer']\n",
      "'Customer_ID' column not found in customers_DE_20241009_225759.csv. Please check the file.\n",
      "Column names in CSV file: ['Customer_Name', 'Customer_Id', 'Open_Date', 'Last_Consulted_Date', 'Vaccination_Type', 'Doctor_Consulted', 'State', 'Country', 'Post_Code', 'Date_of_Birth', 'Active_Customer']\n",
      "'Customer_ID' column not found in customers_IN_20241009_225759.csv. Please check the file.\n"
     ]
    }
   ],
   "source": [
    "for country in countries:\n",
    "    insert_or_update_data_from_csv(country, input_directory)"
   ]
  },
  {
   "cell_type": "code",
   "execution_count": null,
   "metadata": {},
   "outputs": [],
   "source": []
  }
 ],
 "metadata": {
  "kernelspec": {
   "display_name": "Python 3",
   "language": "python",
   "name": "python3"
  },
  "language_info": {
   "codemirror_mode": {
    "name": "ipython",
    "version": 3
   },
   "file_extension": ".py",
   "mimetype": "text/x-python",
   "name": "python",
   "nbconvert_exporter": "python",
   "pygments_lexer": "ipython3",
   "version": "3.12.5"
  }
 },
 "nbformat": 4,
 "nbformat_minor": 2
}
